{
  "nbformat": 4,
  "nbformat_minor": 0,
  "metadata": {
    "colab": {
      "name": "nAirports.ipynb",
      "provenance": [],
      "authorship_tag": "ABX9TyMZyAH5iLpgumGnknMoF05Y",
      "include_colab_link": true
    },
    "kernelspec": {
      "name": "python3",
      "display_name": "Python 3"
    }
  },
  "cells": [
    {
      "cell_type": "markdown",
      "metadata": {
        "id": "view-in-github",
        "colab_type": "text"
      },
      "source": [
        "<a href=\"https://colab.research.google.com/github/jacobazevedojr/CECS-451-Assignment4/blob/main/nAirports.ipynb\" target=\"_parent\"><img src=\"https://colab.research.google.com/assets/colab-badge.svg\" alt=\"Open In Colab\"/></a>"
      ]
    },
    {
      "cell_type": "code",
      "metadata": {
        "id": "rdLor4fndwhH"
      },
      "source": [
        "def solve(airports, cities, alpha):\r\n",
        "  notSolved = True\r\n",
        "\r\n",
        "  objChart = []\r\n",
        "\r\n",
        "  citySets = citiesToSets(airports, cities)\r\n",
        "  lastObjVal = getObjective(airports, citySets)\r\n",
        "  objChart.append(lastObjVal)\r\n",
        "\r\n",
        "  # When do we leave the loop? I propose we choose an arbitrary percent change\r\n",
        "  # value to dictate when we have sufficiently reached the solution\r\n",
        "  while notSolved:\r\n",
        "    # Move to the next acceptable position (according to gradient)\r\n",
        "    move(airports, nextStep(airports, citySets), alpha)\r\n",
        "\r\n",
        "    # Break all current cities into sets (for objEval)\r\n",
        "    citySets = citiesToSets(airports, cities)\r\n",
        "    objVal = getObjective(airports, citySets)\r\n",
        "    objChart.append(objVal)\r\n",
        "\r\n",
        "    # Calculates percent change in the lastObjVal\r\n",
        "    # lastObjVal should always be less than the current objVal\r\n",
        "    delta = (lastObjVal - objVal) / lastObjVal\r\n",
        "\r\n",
        "    # Evaluating condition for acceptable solution\r\n",
        "    if delta < .00005:\r\n",
        "      notSolved = False\r\n",
        "\r\n",
        "    lastObjVal = objVal\r\n",
        "\r\n",
        "  return objChart"
      ],
      "execution_count": 72,
      "outputs": []
    },
    {
      "cell_type": "code",
      "metadata": {
        "id": "pcZQhmYTd26V"
      },
      "source": [
        "# Returns the value for the corresponding objective function\r\n",
        "\r\n",
        "def getObjective(airports, citySets):\r\n",
        "  OVal = 0\r\n",
        "  for i, airport in enumerate(airports):\r\n",
        "    # citySets[i] will return the set of cities tied to airports[i]\r\n",
        "    for j, city in enumerate(citySets[i]):\r\n",
        "      # Sum(Sum(x_i - x_c)^2 + (y_i - y_c)^2)\r\n",
        "      OVal += (pow(airport[0] - city[0], 2) + pow(airport[1] - city[1], 2))\r\n",
        "\r\n",
        "  return OVal"
      ],
      "execution_count": 73,
      "outputs": []
    },
    {
      "cell_type": "code",
      "metadata": {
        "id": "xPejk6Sjd5_M"
      },
      "source": [
        "# Returns an array of partial derivative length = len(airports) * 2, (for x, y)\r\n",
        "\r\n",
        "def nextStep(airports, citySets):\r\n",
        "  gradient = []\r\n",
        "  xGrad = 0\r\n",
        "  yGrad = 0\r\n",
        "  for i, airport in enumerate(airports):\r\n",
        "    for j, city in enumerate(citySets[i]):\r\n",
        "      xGrad += 2 * (airport[0] - city[0])\r\n",
        "      yGrad += 2 * (airport[1] - city[1])\r\n",
        "    gradient.append(xGrad)\r\n",
        "    gradient.append(yGrad)\r\n",
        "\r\n",
        "  return gradient"
      ],
      "execution_count": 74,
      "outputs": []
    },
    {
      "cell_type": "code",
      "metadata": {
        "id": "mQo_bvG7d9hx"
      },
      "source": [
        "# Moves the airports based on gradient values\r\n",
        "\r\n",
        "def move(airports, gradient, alpha):\r\n",
        "\r\n",
        "  # counter for gradients\r\n",
        "  j = 0\r\n",
        "  for i in range(len(airports)):\r\n",
        "    x = airports[i][0] - alpha * gradient[j]\r\n",
        "    y = airports[i][1] - alpha * gradient[j + 1]\r\n",
        "    airports[i] = (x, y)\r\n",
        "    j += 2"
      ],
      "execution_count": 75,
      "outputs": []
    },
    {
      "cell_type": "code",
      "metadata": {
        "id": "FmXC0P9WeCXs"
      },
      "source": [
        "\r\n",
        "# Returns a collections of sets, each set corresponding to the cities\r\n",
        "# neighboring one of the airports \r\n",
        "# (if a city is within an airport's city set, it is closest to that airport)\r\n",
        "\r\n",
        "def citiesToSets(airports, cities):\r\n",
        "  # A list of city sets of coordinate tuples\r\n",
        "  citySets = []\r\n",
        "  for i in range(len(airports)):\r\n",
        "    citySets.append([])\r\n",
        "\r\n",
        "  # Iterates across each city\r\n",
        "  for j, city in enumerate(cities):\r\n",
        "    # Each city is then evaluated with each airport, the closest airport\r\n",
        "    # is the set that the city joins\r\n",
        "    citySets[closestAirport(airports, city)].append(city)\r\n",
        "  \r\n",
        "  return citySets"
      ],
      "execution_count": 76,
      "outputs": []
    },
    {
      "cell_type": "code",
      "metadata": {
        "id": "r8nhaGf4eDBL"
      },
      "source": [
        "# Returns the index of the airport that the current city is closest to\r\n",
        "\r\n",
        "def closestAirport(airports, city):\r\n",
        "  oldMin = (math.sqrt(pow((airports[0][0] - city[0]), 2) + pow((airports[0][1] - city[1]), 2)), 0)\r\n",
        "  for i in range(1, len(airports)):\r\n",
        "    newMin = (math.sqrt(pow((airports[i][0] - city[0]), 2) + pow((airports[i][1] - city[1]), 2)), i)\r\n",
        "    if (newMin[0] < oldMin[0]):\r\n",
        "      oldMin = newMin\r\n",
        "  \r\n",
        "  return oldMin[1]"
      ],
      "execution_count": 77,
      "outputs": []
    },
    {
      "cell_type": "code",
      "metadata": {
        "colab": {
          "base_uri": "https://localhost:8080/",
          "height": 300
        },
        "id": "aKkjBBzSeGne",
        "outputId": "394666e1-11dd-4708-a920-e9479b77b874"
      },
      "source": [
        "import random\r\n",
        "import numpy as np\r\n",
        "import math\r\n",
        "\r\n",
        "num_city = 100\r\n",
        "num_air = 3\r\n",
        "num_center = 5\r\n",
        "sigma = 0.1\r\n",
        "cities = set()\r\n",
        "airports = []\r\n",
        "\r\n",
        "for i in range(num_center):\r\n",
        "    x = random.random()\r\n",
        "    y = random.random()\r\n",
        "    xc = np.random.normal(x, sigma, num_city//num_center)\r\n",
        "    yc = np.random.normal(y, sigma, num_city//num_center)\r\n",
        "    cities = cities.union(zip(xc, yc))\r\n",
        "\r\n",
        "\r\n",
        "for i in range(num_air):\r\n",
        "    x = random.random()\r\n",
        "    y = random.random()\r\n",
        "    airports.append((x,y))\r\n",
        "\r\n",
        "alpha = .001\r\n",
        "# The objective chart contains all iterated values for the objective function\r\n",
        "objectiveChart = solve(airports, cities, alpha)\r\n",
        "\r\n",
        "print(len(objectiveChart))\r\n",
        "\r\n",
        "import matplotlib.pyplot as plt\r\n",
        "\r\n",
        "zip_cities = zip(*cities)\r\n",
        "plt.scatter(*zip_cities, marker='+',color='b', label='Cities')\r\n",
        "zip_airs = zip(*airports)\r\n",
        "plt.scatter(*zip_airs, marker='*', color='r', s=100, label='Airports')\r\n",
        "plt.legend()\r\n",
        "plt"
      ],
      "execution_count": 78,
      "outputs": [
        {
          "output_type": "stream",
          "text": [
            "120\n"
          ],
          "name": "stdout"
        },
        {
          "output_type": "execute_result",
          "data": {
            "text/plain": [
              "<module 'matplotlib.pyplot' from '/usr/local/lib/python3.6/dist-packages/matplotlib/pyplot.py'>"
            ]
          },
          "metadata": {
            "tags": []
          },
          "execution_count": 78
        },
        {
          "output_type": "display_data",
          "data": {
            "image/png": "[encoded data removed]",
            "text/plain": [
              "<Figure size 432x288 with 1 Axes>"
            ]
          },
          "metadata": {
            "tags": [],
            "needs_background": "light"
          }
        }
      ]
    }
  ]
}