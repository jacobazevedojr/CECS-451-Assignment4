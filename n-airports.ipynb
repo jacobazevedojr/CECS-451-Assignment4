{
  "nbformat": 4,
  "nbformat_minor": 0,
  "metadata": {
    "kernelspec": {
      "display_name": "Python 3",
      "language": "python",
      "name": "python3"
    },
    "language_info": {
      "codemirror_mode": {
        "name": "ipython",
        "version": 3
      },
      "file_extension": ".py",
      "mimetype": "text/x-python",
      "name": "python",
      "nbconvert_exporter": "python",
      "pygments_lexer": "ipython3",
      "version": "3.8.5"
    },
    "colab": {
      "name": "n-airports.ipynb",
      "provenance": []
    }
  },
  "cells": [
    {
      "cell_type": "code",
      "metadata": {
        "id": "_DtG-Fu5e33T"
      },
      "source": [
        "import random\n",
        "import numpy as np\n",
        "\n",
        "num_city = 100\n",
        "num_air = 3\n",
        "num_center = 5\n",
        "sigma = 0.1\n",
        "cities = set()\n",
        "airports = []\n",
        "\n",
        "for i in range(num_center):\n",
        "    x = random.random()\n",
        "    y = random.random()\n",
        "    xc = np.random.normal(x, sigma, num_city//num_center)\n",
        "    yc = np.random.normal(y, sigma, num_city//num_center)\n",
        "    cities = cities.union(zip(xc, yc))\n",
        "\n",
        "\n",
        "for i in range(num_air):\n",
        "    x = random.random()\n",
        "    y = random.random()\n",
        "    airports.append((x,y))\n",
        "\n",
        "import matplotlib.pyplot as plt\n",
        "\n",
        "zip_cities = zip(*cities)\n",
        "plt.scatter(*zip_cities, marker='+',color='b', label='Cities')\n",
        "zip_airs = zip(*airports)\n",
        "plt.scatter(*zip_airs, marker='*', color='r', s=100, label='Airports')\n",
        "plt.legend()\n",
        "plt\n",
        "\n"
      ],
      "execution_count": null,
      "outputs": []
    },
    {
      "cell_type": "markdown",
      "metadata": {
        "id": "2TpqelNOg3JA"
      },
      "source": [
        "Ultimate Goal: Minimize Objective Function\r\n",
        "\r\n",
        "Objective Function: ![image.png](data:image/png;base64,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)\r\n",
        "\r\n",
        "Sum(Sum((xi - xc)^2 + (yi - yc)^2)\r\n",
        "\r\n",
        "(xi, yi) corresponds to the cities within the set Ci\r\n",
        "\r\n",
        "Ci is the set of all cities tied to the respective airport\r\n",
        "\r\n",
        "Each airport introduces two new dimensions (xi, yi)\r\n",
        "\r\n",
        "Solving:\r\n",
        "\r\n",
        "> (1) Evaluate objective function f(x1,y1, x2, y2...)\r\n",
        "\r\n",
        "> (1a) Store the value of the objective function after each iteration\r\n",
        "\r\n",
        "> (2) Evaluate the gradient function\r\n",
        "\r\n",
        "> (3) Apply alpha, a constant > 0 and < 1 to the gradient value to determine the weighted change in the objective function\r\n",
        "\r\n",
        "> (4) Use the alpha modified gradient function to \"move\" toward a lower objective function\r\n",
        "\r\n",
        "> Stop iterating once the magnitude of the objective function is below some threshold (this will signify convergence).\r\n",
        "\r\n"
      ]
    },
    {
      "cell_type": "code",
      "metadata": {
        "id": "QqVCx4UDe33Y"
      },
      "source": [
        ""
      ],
      "execution_count": null,
      "outputs": []
    }
  ]
}