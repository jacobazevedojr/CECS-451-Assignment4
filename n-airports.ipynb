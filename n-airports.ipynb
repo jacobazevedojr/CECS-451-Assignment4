{
<<<<<<< HEAD
 "nbformat": 4,
 "nbformat_minor": 0,
 "metadata": {
  "kernelspec": {
   "display_name": "Python 3",
   "language": "python",
   "name": "python3"
  },
<<<<<<< HEAD
  "language_info": {
   "codemirror_mode": {
    "name": "ipython",
    "version": 3
   },
   "file_extension": ".py",
   "mimetype": "text/x-python",
   "name": "python",
   "nbconvert_exporter": "python",
   "pygments_lexer": "ipython3",
   "version": "3.8.5"
  },
  "colab": {
   "name": "n-airports.ipynb",
   "provenance": [],
   "include_colab_link": true
  }
 },
 "cells": [
  {
   "cell_type": "markdown",
   "metadata": {
    "id": "view-in-github",
    "colab_type": "text"
   },
   "source": [
    "<a href=\"https://colab.research.google.com/github/jacobazevedojr/CECS-451-Assignment4/blob/main/n-airports.ipynb\" target=\"_parent\"><img src=\"https://colab.research.google.com/assets/colab-badge.svg\" alt=\"Open In Colab\"/></a>"
   ]
  },
  {
   "cell_type": "markdown",
   "metadata": {
    "id": "2TpqelNOg3JA"
   },
   "source": [
    "Ultimate Goal: Minimize Objective Function\n",
    "\n",
    "Objective Function: ![image.png](data:image/png;base64,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)\n",
    "\n",
    "Sum(Sum((xi - xc)^2 + (yi - yc)^2)\n",
    "\n",
    "(xi, yi) corresponds to the cities within the set Ci\n",
    "\n",
    "Ci is the set of all cities tied to the respective airport\n",
    "\n",
    "Each airport introduces two new dimensions (xi, yi)\n",
    "\n",
    "Solving:\n",
    "\n",
    "> (1) Evaluate objective function f(x1,y1, x2, y2...)\n",
    "\n",
    "> (1a) Store the value of the objective function after each iteration\n",
    "\n",
    "> (2) Evaluate the gradient function\n",
    "\n",
    "> (3) Apply alpha, a constant > 0 and < 1 to the gradient value to determine the weighted change in the objective function\n",
    "\n",
    "> (4) Use the alpha modified gradient function to \"move\" toward a lower objective function\n",
    "\n",
    "> Stop iterating once the magnitude of the objective function is below some threshold (this will signify convergence).\n",
    "\n"
   ]
  },
  {
   "cell_type": "code",
   "metadata": {
    "id": "QqVCx4UDe33Y"
   },
   "source": [
    "def solve(airports, cities, alpha):\n",
    "  notSolved = True\n",
    "\n",
    "  objChart = []\n",
    "\n",
    "  citySets = citiesToSets(airports, cities)\n",
    "  lastObjVal = getObjective(airports, citySets)\n",
    "  objChart.append(lastObjVal)\n",
    "\n",
    "  # When do we leave the loop? I propose we choose an arbitrary percent change\n",
    "  # value to dictate when we have sufficiently reached the solution\n",
    "  while notSolved:\n",
    "    # Move to the next acceptable position (according to gradient)\n",
    "    move(airports, nextStep(airports, citySets), alpha)\n",
    "\n",
    "    # Break all current cities into sets (for objEval)\n",
    "    citySets = citiesToSets(airports, cities)\n",
    "    objVal = getObjective(airports, citySets)\n",
    "    objChart.append(objVal)\n",
    "\n",
    "    # Calculates percent change in the lastObjVal\n",
    "    # lastObjVal should always be less than the current objVal\n",
    "    delta = (lastObjVal - objVal) / lastObjVal\n",
    "\n",
    "    # Evaluating condition for acceptable solution\n",
    "    if delta < .00005:\n",
    "      notSolved = False\n",
    "\n",
    "    lastObjVal = objVal\n",
    "\n",
    "  return objChart"
   ],
   "execution_count": 203,
   "outputs": []
  },
  {
   "cell_type": "code",
   "metadata": {
    "id": "tJg0gOHkfXKA"
   },
   "source": [
    "# Returns the value for the corresponding objective function\n",
    "\n",
    "def getObjective(airports, citySets):\n",
    "  OVal = 0\n",
    "  for i, airport in enumerate(airports):\n",
    "    # citySets[i] will return the set of cities tied to airports[i]\n",
    "    for j, city in enumerate(citySets[i]):\n",
    "      # Sum(Sum(x_i - x_c)^2 + (y_i - y_c)^2)\n",
    "      OVal += (pow(airport[0] - city[0], 2) + pow(airport[1] - city[1], 2))\n",
    "\n",
    "  return OVal"
   ],
   "execution_count": 204,
   "outputs": []
  },
  {
   "cell_type": "code",
   "metadata": {
    "id": "VAq6uDLsfckf"
   },
   "source": [
    "# Returns an array of partial derivative length = len(airports) * 2, (for x, y)\n",
    "\n",
    "def nextStep(airports, citySets):\n",
    "  gradient = []\n",
    "  xGrad = 0\n",
    "  yGrad = 0\n",
    "  for i, airport in enumerate(airports):\n",
    "    for j, city in enumerate(citySets[i]):\n",
    "      xGrad += 2 * (airport[0] - city[0])\n",
    "      yGrad += 2 * (airport[1] - city[1])\n",
    "    gradient.append(xGrad)\n",
    "    gradient.append(yGrad)\n",
    "\n",
    "  return gradient"
   ],
   "execution_count": 205,
   "outputs": []
  },
  {
   "cell_type": "code",
   "metadata": {
    "id": "PTgddSLKfh7E"
   },
   "source": [
    "# Moves the airports based on gradient values\n",
    "\n",
    "def move(airports, gradient, alpha):\n",
    "\n",
    "  # counter for gradients\n",
    "  j = 0\n",
    "  for i in range(len(airports)):\n",
    "    x = airports[i][0] - alpha * gradient[j]\n",
    "    y = airports[i][1] - alpha * gradient[j + 1]\n",
    "    airports[i] = (x, y)\n",
    "    j += 2"
   ],
   "execution_count": 206,
   "outputs": []
  },
  {
   "cell_type": "code",
   "metadata": {
    "id": "TcKD4CPU8rJR"
   },
   "source": [
    "# Returns a collections of sets, each set corresponding to the cities\n",
    "# neighboring one of the airports \n",
    "# (if a city is within an airport's city set, it is closest to that airport)\n",
    "\n",
    "def citiesToSets(airports, cities):\n",
    "  # A list of city sets of coordinate tuples\n",
    "  citySets = []\n",
    "  for i in range(len(airports)):\n",
    "    citySets.append([])\n",
    "\n",
    "  # Iterates across each city\n",
    "  for j, city in enumerate(cities):\n",
    "    # Each city is then evaluated with each airport, the closest airport\n",
    "    # is the set that the city joins\n",
    "    citySets[closestAirport(airports, city)].append(city)\n",
    "  \n",
    "  return citySets"
   ],
   "execution_count": 207,
   "outputs": []
  },
  {
   "cell_type": "code",
   "metadata": {
    "id": "LUtyQlXG90Ui"
   },
   "source": [
    "# Returns the index of the airport that the current city is closest to\n",
    "\n",
    "def closestAirport(airports, city):\n",
    "  oldMin = (math.sqrt(pow((airports[0][0] - city[0]), 2) + pow((airports[0][1] - city[1]), 2)), 0)\n",
    "  for i in range(1, len(airports)):\n",
    "    newMin = (math.sqrt(pow((airports[i][0] - city[0]), 2) + pow((airports[i][1] - city[1]), 2)), i)\n",
    "    if (newMin[0] < oldMin[0]):\n",
    "      oldMin = newMin\n",
    "  \n",
    "  return oldMin[1]"
   ],
   "execution_count": 208,
   "outputs": []
  },
  {
   "cell_type": "code",
   "metadata": {
    "id": "_DtG-Fu5e33T",
    "colab": {
     "base_uri": "https://localhost:8080/",
     "height": 283
=======
  "cells": [
    {
      "cell_type": "markdown",
      "metadata": {
        "id": "view-in-github",
        "colab_type": "text"
      },
      "source": [
        "<a href=\"https://colab.research.google.com/github/jacobazevedojr/CECS-451-Assignment4/blob/main/n-airports.ipynb\" target=\"_parent\"><img src=\"https://colab.research.google.com/assets/colab-badge.svg\" alt=\"Open In Colab\"/></a>"
      ]
    },
    {
      "cell_type": "markdown",
      "metadata": {
        "id": "2TpqelNOg3JA"
      },
      "source": [
        "Ultimate Goal: Minimize Objective Function\r\n",
        "\r\n",
        "Objective Function: ![image.png](data:image/png;base64,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)\r\n",
        "\r\n",
        "Sum(Sum((xi - xc)^2 + (yi - yc)^2)\r\n",
        "\r\n",
        "(xi, yi) corresponds to the cities within the set Ci\r\n",
        "\r\n",
        "Ci is the set of all cities tied to the respective airport\r\n",
        "\r\n",
        "Each airport introduces two new dimensions (xi, yi)\r\n",
        "\r\n",
        "Solving:\r\n",
        "\r\n",
        "> (1) Evaluate objective function f(x1,y1, x2, y2...)\r\n",
        "\r\n",
        "> (1a) Store the value of the objective function after each iteration\r\n",
        "\r\n",
        "> (2) Evaluate the gradient function\r\n",
        "\r\n",
        "> (3) Apply alpha, a constant > 0 and < 1 to the gradient value to determine the weighted change in the objective function\r\n",
        "\r\n",
        "> (4) Use the alpha modified gradient function to \"move\" toward a lower objective function\r\n",
        "\r\n",
        "> Stop iterating once the magnitude of the objective function is below some threshold (this will signify convergence).\r\n",
        "\r\n"
      ]
    },
    {
      "cell_type": "code",
      "metadata": {
        "id": "QqVCx4UDe33Y"
      },
      "source": [
        "def solve(airports, cities, alpha):\r\n",
        "  notSolved = True\r\n",
        "\r\n",
        "  objChart = []\r\n",
        "\r\n",
        "  citySets = citiesToSets(airports, cities)\r\n",
        "  lastObjVal = getObjective(airports, citySets)\r\n",
        "  objChart.append(lastObjVal)\r\n",
        "\r\n",
        "  # When do we leave the loop? I propose we choose an arbitrary percent change\r\n",
        "  # value to dictate when we have sufficiently reached the solution\r\n",
        "  while notSolved:\r\n",
        "    # Move to the next acceptable position (according to gradient)\r\n",
        "    move(airports, nextStep(airports, citySets), alpha)\r\n",
        "\r\n",
        "    # Break all current cities into sets (for objEval)\r\n",
        "    citySets = citiesToSets(airports, cities)\r\n",
        "    objVal = getObjective(airports, citySets)\r\n",
        "    objChart.append(objVal)\r\n",
        "\r\n",
        "    # Calculates percent change in the lastObjVal\r\n",
        "    # lastObjVal should always be less than the current objVal\r\n",
        "    delta = (lastObjVal - objVal) / lastObjVal\r\n",
        "\r\n",
        "    # Evaluating condition for acceptable solution\r\n",
        "    if delta < .00005:\r\n",
        "      notSolved = False\r\n",
        "\r\n",
        "    lastObjVal = objVal\r\n",
        "\r\n",
        "  return objChart"
      ],
      "execution_count": 405,
      "outputs": []
    },
    {
      "cell_type": "code",
      "metadata": {
        "id": "tJg0gOHkfXKA"
      },
      "source": [
        "# Returns the value for the corresponding objective function\r\n",
        "\r\n",
        "def getObjective(airports, citySets):\r\n",
        "  OVal = 0\r\n",
        "  for i, airport in enumerate(airports):\r\n",
        "    # citySets[i] will return the set of cities tied to airports[i]\r\n",
        "    for j, city in enumerate(citySets[i]):\r\n",
        "      # Sum(Sum(x_i - x_c)^2 + (y_i - y_c)^2)\r\n",
        "      OVal += (pow(airport[0] - city[0], 2) + pow(airport[1] - city[1], 2))\r\n",
        "\r\n",
        "  return OVal"
      ],
      "execution_count": 406,
      "outputs": []
    },
    {
      "cell_type": "code",
      "metadata": {
        "id": "VAq6uDLsfckf"
      },
      "source": [
        "# Returns an array of partial derivative length = len(airports) * 2, (for x, y)\r\n",
        "\r\n",
        "def nextStep(airports, citySets):\r\n",
        "  gradient = []\r\n",
        "  xGrad = 0\r\n",
        "  yGrad = 0\r\n",
        "  for i, airport in enumerate(airports):\r\n",
        "    for j, city in enumerate(citySets[i]):\r\n",
        "      xGrad += 2 * (airport[0] - city[0])\r\n",
        "      yGrad += 2 * (airport[1] - city[1])\r\n",
        "    gradient.append(xGrad)\r\n",
        "    gradient.append(yGrad)\r\n",
        "\r\n",
        "  return gradient"
      ],
      "execution_count": 407,
      "outputs": []
    },
    {
      "cell_type": "code",
      "metadata": {
        "id": "PTgddSLKfh7E"
      },
      "source": [
        "# Moves the airports based on gradient values\r\n",
        "\r\n",
        "def move(airports, gradient, alpha):\r\n",
        "\r\n",
        "  # counter for gradients\r\n",
        "  j = 0\r\n",
        "  for i in range(len(airports)):\r\n",
        "    x = airports[i][0] - alpha * gradient[j]\r\n",
        "    y = airports[i][1] - alpha * gradient[j + 1]\r\n",
        "    airports[i] = (x, y)\r\n",
        "    j += 2"
      ],
      "execution_count": 408,
      "outputs": []
>>>>>>> parent of 18be91e... Added instructions for graphing Objective Function
=======
  "nbformat": 4,
  "nbformat_minor": 0,
  "metadata": {
    "kernelspec": {
      "display_name": "Python 3",
      "language": "python",
      "name": "python3"
    },
    "language_info": {
      "codemirror_mode": {
        "name": "ipython",
        "version": 3
      },
      "file_extension": ".py",
      "mimetype": "text/x-python",
      "name": "python",
      "nbconvert_exporter": "python",
      "pygments_lexer": "ipython3",
      "version": "3.8.5"
>>>>>>> parent of 1d5e4a6... This commit adds the graph of the objective value as a function of the number of iterations.
    },
    "colab": {
      "name": "n-airports.ipynb",
      "provenance": [],
      "include_colab_link": true
    }
  },
  "cells": [
    {
<<<<<<< HEAD
<<<<<<< HEAD
     "data": {
      "text/plain": "<matplotlib.legend.Legend at 0x7f888048dfd0>"
     },
     "execution_count": 209,
     "metadata": {},
     "output_type": "execute_result"
=======
      "cell_type": "markdown",
      "metadata": {
        "id": "view-in-github",
        "colab_type": "text"
      },
      "source": [
        "<a href=\"https://colab.research.google.com/github/jacobazevedojr/CECS-451-Assignment4/blob/main/n-airports.ipynb\" target=\"_parent\"><img src=\"https://colab.research.google.com/assets/colab-badge.svg\" alt=\"Open In Colab\"/></a>"
      ]
>>>>>>> parent of 1d5e4a6... This commit adds the graph of the objective value as a function of the number of iterations.
    },
    {
      "cell_type": "markdown",
      "metadata": {
        "id": "2TpqelNOg3JA"
      },
      "source": [
        "Ultimate Goal: Minimize Objective Function\r\n",
        "\r\n",
        "Objective Function: ![image.png](data:image/png;base64,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)\r\n",
        "\r\n",
        "Sum(Sum((xi - xc)^2 + (yi - yc)^2)\r\n",
        "\r\n",
        "(xi, yi) corresponds to the cities within the set Ci\r\n",
        "\r\n",
        "Ci is the set of all cities tied to the respective airport\r\n",
        "\r\n",
        "Each airport introduces two new dimensions (xi, yi)\r\n",
        "\r\n",
        "Solving:\r\n",
        "\r\n",
        "> (1) Evaluate objective function f(x1,y1, x2, y2...)\r\n",
        "\r\n",
        "> (1a) Store the value of the objective function after each iteration\r\n",
        "\r\n",
        "> (2) Evaluate the gradient function\r\n",
        "\r\n",
        "> (3) Apply alpha, a constant > 0 and < 1 to the gradient value to determine the weighted change in the objective function\r\n",
        "\r\n",
        "> (4) Use the alpha modified gradient function to \"move\" toward a lower objective function\r\n",
        "\r\n",
        "> Stop iterating once the magnitude of the objective function is below some threshold (this will signify convergence).\r\n",
        "\r\n"
      ]
    },
    {
      "cell_type": "code",
      "metadata": {
        "id": "QqVCx4UDe33Y"
      },
      "source": [
        "def solve(airports, cities, alpha):\r\n",
        "  notSolved = True\r\n",
        "\r\n",
        "  objChart = []\r\n",
        "\r\n",
        "  citySets = citiesToSets(airports, cities)\r\n",
        "  lastObjVal = getObjective(airports, citySets)\r\n",
        "  objChart.append(lastObjVal)\r\n",
        "\r\n",
        "  # When do we leave the loop? I propose we choose an arbitrary percent change\r\n",
        "  # value to dictate when we have sufficiently reached the solution\r\n",
        "  while notSolved:\r\n",
        "    # Move to the next acceptable position (according to gradient)\r\n",
        "    move(airports, nextStep(airports, citySets), alpha)\r\n",
        "\r\n",
        "    # Break all current cities into sets (for objEval)\r\n",
        "    citySets = citiesToSets(airports, cities)\r\n",
        "    objVal = getObjective(airports, citySets)\r\n",
        "    objChart.append(objVal)\r\n",
        "\r\n",
        "    # Calculates percent change in the lastObjVal\r\n",
        "    # lastObjVal should always be less than the current objVal\r\n",
        "    delta = (lastObjVal - objVal) / lastObjVal\r\n",
        "\r\n",
        "    # Evaluating condition for acceptable solution\r\n",
        "    if delta < .00005:\r\n",
        "      notSolved = False\r\n",
        "\r\n",
        "    lastObjVal = objVal\r\n",
        "\r\n",
        "  return objChart"
      ],
      "execution_count": null,
      "outputs": []
    },
    {
<<<<<<< HEAD
     "data": {
      "text/plain": "<Figure size 432x288 with 1 Axes>",
      "image/png": "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\n"
     },
     "metadata": {
      "needs_background": "light"
     },
     "output_type": "display_data"
    }
   ],
   "source": [
    "import matplotlib.pyplot as plt2\n",
    "\n",
    "objectiveChart = np.array(objectiveChart)\n",
    "\n",
    "xAxis = np.array(range(0,len(objectiveChart)))\n",
    "\n",
    "plt2.plot(xAxis, objectiveChart)\n",
    "\n",
    "\n",
    "#plt2.legend()\n",
    "plt2.title('Objective as a function of Epoch')\n",
    "\n",
    "plt2.show()"
   ],
   "metadata": {
    "collapsed": false,
    "pycharm": {
     "name": "#%%\n"
=======
=======
      "cell_type": "code",
      "metadata": {
        "id": "tJg0gOHkfXKA"
      },
      "source": [
        "# Returns the value for the corresponding objective function\r\n",
        "\r\n",
        "def getObjective(airports, citySets):\r\n",
        "  OVal = 0\r\n",
        "  for i, airport in enumerate(airports):\r\n",
        "    # citySets[i] will return the set of cities tied to airports[i]\r\n",
        "    for j, city in enumerate(citySets[i]):\r\n",
        "      # Sum(Sum(x_i - x_c)^2 + (y_i - y_c)^2)\r\n",
        "      OVal += (pow(airport[0] - city[0], 2) + pow(airport[1] - city[1], 2))\r\n",
        "\r\n",
        "  return OVal"
      ],
      "execution_count": null,
      "outputs": []
    },
    {
      "cell_type": "code",
      "metadata": {
        "id": "VAq6uDLsfckf"
      },
      "source": [
        "# Returns an array of partial derivative length = len(airports) * 2, (for x, y)\r\n",
        "\r\n",
        "def nextStep(airports, citySets):\r\n",
        "  gradient = []\r\n",
        "  xGrad = 0\r\n",
        "  yGrad = 0\r\n",
        "  for i, airport in enumerate(airports):\r\n",
        "    for j, city in enumerate(citySets[i]):\r\n",
        "      xGrad += 2 * (airport[0] - city[0])\r\n",
        "      yGrad += 2 * (airport[1] - city[1])\r\n",
        "    gradient.append(xGrad)\r\n",
        "    gradient.append(yGrad)\r\n",
        "\r\n",
        "  return gradient"
      ],
      "execution_count": null,
      "outputs": []
    },
    {
      "cell_type": "code",
      "metadata": {
        "id": "PTgddSLKfh7E"
      },
      "source": [
        "# Moves the airports based on gradient values\r\n",
        "\r\n",
        "def move(airports, gradient, alpha):\r\n",
        "\r\n",
        "  # counter for gradients\r\n",
        "  j = 0\r\n",
        "  for i in range(len(airports)):\r\n",
        "    x = airports[i][0] - alpha * gradient[j]\r\n",
        "    y = airports[i][1] - alpha * gradient[j + 1]\r\n",
        "    airports[i] = (x, y)\r\n",
        "    j += 2"
      ],
      "execution_count": null,
      "outputs": []
    },
    {
>>>>>>> parent of 1d5e4a6... This commit adds the graph of the objective value as a function of the number of iterations.
      "cell_type": "code",
      "metadata": {
        "id": "TcKD4CPU8rJR"
      },
      "source": [
        "# Returns a collections of sets, each set corresponding to the cities\r\n",
        "# neighboring one of the airports \r\n",
        "# (if a city is within an airport's city set, it is closest to that airport)\r\n",
        "\r\n",
        "def citiesToSets(airports, cities):\r\n",
        "  # A list of city sets of coordinate tuples\r\n",
        "  citySets = []\r\n",
        "  for i in range(len(airports)):\r\n",
        "    citySets.append([])\r\n",
        "\r\n",
        "  # Iterates across each city\r\n",
        "  for j, city in enumerate(cities):\r\n",
        "    # Each city is then evaluated with each airport, the closest airport\r\n",
        "    # is the set that the city joins\r\n",
        "    citySets[closestAirport(airports, city)].append(city)\r\n",
        "  \r\n",
        "  return citySets"
      ],
<<<<<<< HEAD
      "execution_count": 409,
=======
      "execution_count": null,
>>>>>>> parent of 1d5e4a6... This commit adds the graph of the objective value as a function of the number of iterations.
      "outputs": []
    },
    {
      "cell_type": "code",
      "metadata": {
        "id": "LUtyQlXG90Ui"
      },
      "source": [
        "# Returns the index of the airport that the current city is closest to\r\n",
        "\r\n",
        "def closestAirport(airports, city):\r\n",
        "  oldMin = (math.sqrt(pow((airports[0][0] - city[0]), 2) + pow((airports[0][1] - city[1]), 2)), 0)\r\n",
        "  for i in range(1, len(airports)):\r\n",
        "    newMin = (math.sqrt(pow((airports[i][0] - city[0]), 2) + pow((airports[i][1] - city[1]), 2)), i)\r\n",
        "    if (newMin[0] < oldMin[0]):\r\n",
        "      oldMin = newMin\r\n",
        "  \r\n",
        "  return oldMin[1]"
      ],
<<<<<<< HEAD
      "execution_count": 410,
=======
      "execution_count": null,
>>>>>>> parent of 1d5e4a6... This commit adds the graph of the objective value as a function of the number of iterations.
      "outputs": []
    },
    {
      "cell_type": "code",
      "metadata": {
        "id": "_DtG-Fu5e33T",
        "colab": {
          "base_uri": "https://localhost:8080/",
          "height": 283
        },
        "outputId": "ed3183c4-c3c4-449e-b601-e9b8efa49e1f"
      },
      "source": [
        "import random\n",
        "import numpy as np\n",
        "import math\n",
        "\n",
        "num_city = 100\n",
        "num_air = 3\n",
        "num_center = 5\n",
        "sigma = 0.1\n",
        "cities = set()\n",
        "airports = []\n",
        "\n",
        "for i in range(num_center):\n",
        "    x = random.random()\n",
        "    y = random.random()\n",
        "    xc = np.random.normal(x, sigma, num_city//num_center)\n",
        "    yc = np.random.normal(y, sigma, num_city//num_center)\n",
        "    cities = cities.union(zip(xc, yc))\n",
        "\n",
        "\n",
        "for i in range(num_air):\n",
        "    x = random.random()\n",
        "    y = random.random()\n",
        "    airports.append((x,y))\n",
        "\n",
        "alpha = .001\n",
        "# The objective chart contains all iterated values for the objective function\n",
        "objectiveChart = solve(airports, cities, alpha)\n",
        "\n",
<<<<<<< HEAD
=======
        "# ^^^ THIS OBJECTIVECHART VARIABLE STORES A LIST OF DOUBLE VALUES\n",
        "# EACH DOUBLE VALUE IS THE OBJECTIVE VALUE AT EACH EPOCH\n",
        "# ALL THAT NEEDS TO BE DONE IS YOU HAVE TO GRAPH THIS LIST\n",
        "# Y AXIS ARE THE ELEMENTS\n",
        "# X AXIS BEGINS AT 1 AND CONTINUES UNTIL LEN(OBJECTIVECHART)\n",
        "# USE MATPLOTLIB.PYPLOT BELOW!!!\n",
        "\n",
        "# THE PLT BELOW IS THE SOLVED CITY/AIRPORT CHART\n",
        "# UNDER IT, INITIALIZE THE OBJECTIVE FUNCTION CHART\n",
        "\n",
>>>>>>> parent of 1d5e4a6... This commit adds the graph of the objective value as a function of the number of iterations.
        "import matplotlib.pyplot as plt\n",
        "\n",
        "zip_cities = zip(*cities)\n",
        "plt.scatter(*zip_cities, marker='+',color='b', label='Cities')\n",
        "zip_airs = zip(*airports)\n",
        "plt.scatter(*zip_airs, marker='*', color='r', s=100, label='Airports')\n",
        "plt.legend()\n",
        "plt\n"
      ],
<<<<<<< HEAD
      "execution_count": 411,
=======
      "execution_count": null,
>>>>>>> parent of 1d5e4a6... This commit adds the graph of the objective value as a function of the number of iterations.
      "outputs": [
        {
          "output_type": "execute_result",
          "data": {
            "text/plain": [
              "<module 'matplotlib.pyplot' from '/usr/local/lib/python3.6/dist-packages/matplotlib/pyplot.py'>"
            ]
          },
          "metadata": {
            "tags": []
          },
          "execution_count": 411
        },
        {
          "output_type": "display_data",
          "data": {
            "image/png": "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\n",
            "text/plain": [
              "<Figure size 432x288 with 1 Axes>"
            ]
          },
          "metadata": {
            "tags": [],
            "needs_background": "light"
          }
        }
      ]
<<<<<<< HEAD
>>>>>>> parent of 18be91e... Added instructions for graphing Objective Function
=======
    },
    {
      "cell_type": "code",
      "metadata": {
        "id": "ez1ZPZ9vJJ0x"
      },
      "source": [
        ""
      ],
      "execution_count": null,
      "outputs": []
>>>>>>> parent of 1d5e4a6... This commit adds the graph of the objective value as a function of the number of iterations.
    }
  ]
}